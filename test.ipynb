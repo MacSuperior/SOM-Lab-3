{
 "cells": [
  {
   "cell_type": "code",
   "execution_count": 1,
   "metadata": {},
   "outputs": [],
   "source": [
    "from typing import List\n",
    "\n",
    "class Tariefeenheden:\n",
    "\n",
    "    @staticmethod\n",
    "    def get_stations() -> List[str]:\n",
    "        return [\"Utrecht Centraal\",\n",
    "                \"Gouda\",\n",
    "                \"Geldermalsen\",\n",
    "                \"Hilversum\",\n",
    "                \"Duivendrecht\",\n",
    "                \"Weesp\"]\n",
    "\n",
    "    @staticmethod\n",
    "    def get_tariefeenheden(frm: str, to: str) -> int:\n",
    "        if frm == \"Utrecht Centraal\":\n",
    "            if to == \"Utrecht Centraal\":\n",
    "                return 0\n",
    "            elif to == \"Gouda\":\n",
    "                return 32\n",
    "            elif to == \"Geldermalsen\":\n",
    "                return 26\n",
    "            elif to == \"Hilversum\":\n",
    "                return 18\n",
    "            elif to == \"Duivendrecht\":\n",
    "                return 31\n",
    "            elif to == \"Weesp\":\n",
    "                return 33\n",
    "            else:\n",
    "                raise Exception(\"Unknown stations\")\n",
    "\n",
    "        elif frm == \"Gouda\":\n",
    "            if to == \"Gouda\":\n",
    "                return 0\n",
    "            elif to == \"Geldermalsen\":\n",
    "                return 58\n",
    "            elif to == \"Hilversum\":\n",
    "                return 50\n",
    "            elif to == \"Duivendrecht\":\n",
    "                return 54\n",
    "            elif to == \"Weesp\":\n",
    "                return 57\n",
    "            else:\n",
    "                return Tariefeenheden.get_tariefeenheden(to, frm)\n",
    "\n",
    "        elif frm == \"Geldermalsen\":\n",
    "            if to == \"Geldermalsen\":\n",
    "                return 0\n",
    "            elif to == \"Hilversum\":\n",
    "                return 44\n",
    "            elif to == \"Duivendrecht\":\n",
    "                return 57\n",
    "            elif to == \"Weesp\":\n",
    "                return 59\n",
    "            else:\n",
    "                return Tariefeenheden.get_tariefeenheden(to, frm)\n",
    "\n",
    "        elif frm == \"Hilversum\":\n",
    "            if to == \"Hilversum\":\n",
    "                return 0\n",
    "            elif to == \"Duivendrecht\":\n",
    "                return 18\n",
    "            elif to == \"Weesp\":\n",
    "                return 15\n",
    "            else:\n",
    "                return Tariefeenheden.get_tariefeenheden(to, frm)\n",
    "\n",
    "        elif frm == \"Duivendrecht\":\n",
    "            if to == \"Duivendrecht\":\n",
    "                return 0\n",
    "            elif to == \"Weesp\":\n",
    "                return 3\n",
    "            else:\n",
    "                return Tariefeenheden.get_tariefeenheden(to, frm)\n",
    "\n",
    "        elif frm == \"Weesp\":\n",
    "            if to == \"Weesp\":\n",
    "                return 0\n",
    "            else:\n",
    "                return Tariefeenheden.get_tariefeenheden(to, frm)\n",
    "        \n",
    "        else:\n",
    "            raise Exception(\"Unknown stations\")\n"
   ]
  },
  {
   "cell_type": "code",
   "execution_count": 2,
   "metadata": {},
   "outputs": [],
   "source": [
    "import pandas as pd"
   ]
  },
  {
   "cell_type": "code",
   "execution_count": 3,
   "metadata": {},
   "outputs": [
    {
     "name": "stdout",
     "output_type": "stream",
     "text": [
      "                From                To  Tariefeenheden\n",
      "0   Utrecht Centraal  Utrecht Centraal               0\n",
      "1   Utrecht Centraal             Gouda              32\n",
      "2   Utrecht Centraal      Geldermalsen              26\n",
      "3   Utrecht Centraal         Hilversum              18\n",
      "4   Utrecht Centraal      Duivendrecht              31\n",
      "5   Utrecht Centraal             Weesp              33\n",
      "6              Gouda  Utrecht Centraal              32\n",
      "7              Gouda             Gouda               0\n",
      "8              Gouda      Geldermalsen              58\n",
      "9              Gouda         Hilversum              50\n",
      "10             Gouda      Duivendrecht              54\n",
      "11             Gouda             Weesp              57\n",
      "12      Geldermalsen  Utrecht Centraal              26\n",
      "13      Geldermalsen             Gouda              58\n",
      "14      Geldermalsen      Geldermalsen               0\n",
      "15      Geldermalsen         Hilversum              44\n",
      "16      Geldermalsen      Duivendrecht              57\n",
      "17      Geldermalsen             Weesp              59\n",
      "18         Hilversum  Utrecht Centraal              18\n",
      "19         Hilversum             Gouda              50\n",
      "20         Hilversum      Geldermalsen              44\n",
      "21         Hilversum         Hilversum               0\n",
      "22         Hilversum      Duivendrecht              18\n",
      "23         Hilversum             Weesp              15\n",
      "24      Duivendrecht  Utrecht Centraal              31\n",
      "25      Duivendrecht             Gouda              54\n",
      "26      Duivendrecht      Geldermalsen              57\n",
      "27      Duivendrecht         Hilversum              18\n",
      "28      Duivendrecht      Duivendrecht               0\n",
      "29      Duivendrecht             Weesp               3\n",
      "30             Weesp  Utrecht Centraal              33\n",
      "31             Weesp             Gouda              57\n",
      "32             Weesp      Geldermalsen              59\n",
      "33             Weesp         Hilversum              15\n",
      "34             Weesp      Duivendrecht               3\n",
      "35             Weesp             Weesp               0\n"
     ]
    }
   ],
   "source": [
    "# Generate all combinations of stations\n",
    "stations = Tariefeenheden.get_stations()\n",
    "combinations = [(frm, to) for frm in stations for to in stations]\n",
    "\n",
    "# Create a DataFrame\n",
    "data = {'From': [], 'To': [], 'Tariefeenheden': []}\n",
    "\n",
    "for frm, to in combinations:\n",
    "    tariefeenheden = Tariefeenheden.get_tariefeenheden(frm, to)\n",
    "    data['From'].append(frm)\n",
    "    data['To'].append(to)\n",
    "    data['Tariefeenheden'].append(tariefeenheden)\n",
    "\n",
    "df = pd.DataFrame(data)"
   ]
  },
  {
   "cell_type": "code",
   "execution_count": 5,
   "metadata": {},
   "outputs": [],
   "source": [
    "df.to_pickle(\"tariefeenheden.pkl\")"
   ]
  },
  {
   "cell_type": "code",
   "execution_count": 7,
   "metadata": {},
   "outputs": [
    {
     "data": {
      "text/plain": [
       "From              object\n",
       "To                object\n",
       "Tariefeenheden     int64\n",
       "dtype: object"
      ]
     },
     "execution_count": 7,
     "metadata": {},
     "output_type": "execute_result"
    }
   ],
   "source": [
    "df.dtypes"
   ]
  },
  {
   "cell_type": "code",
   "execution_count": 8,
   "metadata": {},
   "outputs": [],
   "source": [
    "import pandas as pd\n",
    "\n",
    "class PricingTable:\n",
    "\n",
    "    @staticmethod\n",
    "    def get_price(tariefeenheden: int, col: int) -> float:\n",
    "        price = 0\n",
    "\n",
    "        if col == 0:\n",
    "            price = 2.10\n",
    "        elif col == 1:\n",
    "            price = 1.70\n",
    "        elif col == 2:\n",
    "            price = 1.30\n",
    "        elif col == 3:\n",
    "            price = 3.60\n",
    "        elif col == 4:\n",
    "            price = 2.90\n",
    "        elif col == 5:\n",
    "            price = 2.20\n",
    "        else:\n",
    "            raise Exception(\"Unknown column number\")\n",
    "\n",
    "        # Ignoring the price calculation at the bottom\n",
    "\n",
    "        return round(price, 2)\n",
    "\n",
    "# Create a DataFrame\n",
    "data = {'Column': [], 'Price': []}\n",
    "\n",
    "# Assuming you have a range of column values for which you want to get prices\n",
    "for col in range(6):  # Assuming there are 6 columns as per the elif statements\n",
    "    price = PricingTable.get_price(tariefeenheden=100, col=col)  # Provide a sample tariefeenheden value\n",
    "    data['Column'].append(col)\n",
    "    data['Price'].append(price)\n",
    "\n",
    "df = pd.DataFrame(data)"
   ]
  },
  {
   "cell_type": "code",
   "execution_count": 12,
   "metadata": {},
   "outputs": [],
   "source": [
    "data = {'TicketClass': [1, 1, 1, 2, 2, 2], \n",
    "        'DiscountPercentage': [0, 20, 40, 0, 20, 40], \n",
    "        'Price': [3.60, 2.90, 2.20, 2.10, 1.70, 1.30]}\n",
    "df = pd.DataFrame.from_dict(data)"
   ]
  },
  {
   "cell_type": "code",
   "execution_count": 14,
   "metadata": {},
   "outputs": [],
   "source": [
    "df.to_pickle(\"ticket_pricing.pkl\")"
   ]
  },
  {
   "cell_type": "code",
   "execution_count": null,
   "metadata": {},
   "outputs": [],
   "source": []
  }
 ],
 "metadata": {
  "kernelspec": {
   "display_name": "APML4",
   "language": "python",
   "name": "python3"
  },
  "language_info": {
   "codemirror_mode": {
    "name": "ipython",
    "version": 3
   },
   "file_extension": ".py",
   "mimetype": "text/x-python",
   "name": "python",
   "nbconvert_exporter": "python",
   "pygments_lexer": "ipython3",
   "version": "3.9.9"
  }
 },
 "nbformat": 4,
 "nbformat_minor": 2
}
